{
  "nbformat": 4,
  "nbformat_minor": 0,
  "metadata": {
    "colab": {
      "provenance": []
    },
    "kernelspec": {
      "name": "python3",
      "display_name": "Python 3"
    },
    "language_info": {
      "name": "python"
    }
  },
  "cells": [
    {
      "cell_type": "markdown",
      "source": [
        "# Exercise 6 Model Evaluation Methods"
      ],
      "metadata": {
        "id": "1t9XDZi3_CgL"
      }
    },
    {
      "cell_type": "markdown",
      "source": [
        "**Pre-processing checklist**"
      ],
      "metadata": {
        "id": "791q2IZQ_g27"
      }
    },
    {
      "cell_type": "markdown",
      "source": [
        "**a) Load CSV and add column names (Pima: pregnancies, glucose, blood_pressure, skin_thickness, insulin, bmi, diabetes_pedigree_function, age, outcome).**"
      ],
      "metadata": {
        "id": "k9Jg8JO2_oea"
      }
    },
    {
      "cell_type": "code",
      "source": [
        "import pandas as pd\n",
        "df = pd.read_csv('diabetes.csv')\n",
        "print(df.head(10))"
      ],
      "metadata": {
        "colab": {
          "base_uri": "https://localhost:8080/"
        },
        "id": "IlPkBV-F_rLq",
        "outputId": "dccd4294-b8df-481a-8f27-cfc52f54ead4"
      },
      "execution_count": 120,
      "outputs": [
        {
          "output_type": "stream",
          "name": "stdout",
          "text": [
            "   Pregnancies  Glucose  BloodPressure  SkinThickness  Insulin   BMI  \\\n",
            "0            6      148             72             35        0  33.6   \n",
            "1            1       85             66             29        0  26.6   \n",
            "2            8      183             64              0        0  23.3   \n",
            "3            1       89             66             23       94  28.1   \n",
            "4            0      137             40             35      168  43.1   \n",
            "5            5      116             74              0        0  25.6   \n",
            "6            3       78             50             32       88  31.0   \n",
            "7           10      115              0              0        0  35.3   \n",
            "8            2      197             70             45      543  30.5   \n",
            "9            8      125             96              0        0   0.0   \n",
            "\n",
            "   DiabetesPedigreeFunction  Age  Outcome  \n",
            "0                     0.627   50        1  \n",
            "1                     0.351   31        0  \n",
            "2                     0.672   32        1  \n",
            "3                     0.167   21        0  \n",
            "4                     2.288   33        1  \n",
            "5                     0.201   30        0  \n",
            "6                     0.248   26        1  \n",
            "7                     0.134   29        0  \n",
            "8                     0.158   53        1  \n",
            "9                     0.232   54        1  \n"
          ]
        }
      ]
    },
    {
      "cell_type": "markdown",
      "source": [
        "**b) Check for missing values (in Pima some 0 values are placeholders for missing in glucose, blood_pressure, skin_thickness, insulin, bmi). Decide how to handle (imputation with median or remove rows). Document your choice.**"
      ],
      "metadata": {
        "id": "wAPuw_Za_9oj"
      }
    },
    {
      "cell_type": "code",
      "source": [
        "# check for numeric columns with missing value filled with 0 as placeholder\n",
        "def columns_with_missing_data(df, threshold=0.01):\n",
        "    numericalcols = df.select_dtypes(include='number').columns\n",
        "    zeromissingcols = [ col for col in numericalcols if (df[col] == 0).mean() > threshold ]\n",
        "    return zeromissingcols\n",
        "\n",
        "print(columns_with_missing_data(df))"
      ],
      "metadata": {
        "colab": {
          "base_uri": "https://localhost:8080/"
        },
        "id": "cWRY6zxvAAJS",
        "outputId": "8e243ac4-b4f2-4c21-9e1d-55dcd467559f"
      },
      "execution_count": 121,
      "outputs": [
        {
          "output_type": "stream",
          "name": "stdout",
          "text": [
            "['Pregnancies', 'BloodPressure', 'SkinThickness', 'Insulin', 'BMI', 'Outcome']\n"
          ]
        }
      ]
    },
    {
      "cell_type": "code",
      "source": [
        "# to impute median values for the identified columns where zeros are treated as missing:\n",
        "def impute_zero_with_median(df, cols):\n",
        "    dfcopy = df.copy()\n",
        "    for col in cols:\n",
        "        median_val = dfcopy.loc[dfcopy[col] != 0, col].median()\n",
        "        dfcopy[col] = dfcopy[col].replace(0, median_val)\n",
        "\n",
        "    return dfcopy\n",
        "\n",
        "print(impute_zero_with_median(df, columns_with_missing_data(df)).head(5))"
      ],
      "metadata": {
        "colab": {
          "base_uri": "https://localhost:8080/"
        },
        "id": "ajRpMDvZArCC",
        "outputId": "543a8477-2cd4-46dc-f187-b886fc054469"
      },
      "execution_count": 122,
      "outputs": [
        {
          "output_type": "stream",
          "name": "stdout",
          "text": [
            "   Pregnancies  Glucose  BloodPressure  SkinThickness  Insulin   BMI  \\\n",
            "0            6      148             72             35      125  33.6   \n",
            "1            1       85             66             29      125  26.6   \n",
            "2            8      183             64             29      125  23.3   \n",
            "3            1       89             66             23       94  28.1   \n",
            "4            4      137             40             35      168  43.1   \n",
            "\n",
            "   DiabetesPedigreeFunction  Age  Outcome  \n",
            "0                     0.627   50        1  \n",
            "1                     0.351   31        1  \n",
            "2                     0.672   32        1  \n",
            "3                     0.167   21        1  \n",
            "4                     2.288   33        1  \n"
          ]
        }
      ]
    },
    {
      "cell_type": "markdown",
      "source": [
        "\n",
        "\n",
        "*   Instead of hardcoding the column names, the column names are identified by checking with the numeric columns with higher proportion of zeroes\n",
        "*   Missing zero values are replaced with the median non zero value of the respective column\n",
        "*   Dropping rows having zeroes, will reduce the data size and it degrades the model performance"
      ],
      "metadata": {
        "id": "RtMTwuBPCl4d"
      }
    },
    {
      "cell_type": "markdown",
      "source": [
        "**c) Standardize numeric features (zero mean, unit variance) using StandardScaler fit only on training data for each split.**"
      ],
      "metadata": {
        "id": "oOmpxgd8DYZ5"
      }
    },
    {
      "cell_type": "code",
      "source": [
        "from sklearn.preprocessing import StandardScaler\n",
        "from sklearn.model_selection import train_test_split, StratifiedKFold\n",
        "import numpy as np"
      ],
      "metadata": {
        "id": "ECGdePeKDiSZ"
      },
      "execution_count": 123,
      "outputs": []
    },
    {
      "cell_type": "code",
      "source": [
        "x = df.drop(columns = ['Outcome'])\n",
        "y = df['Outcome']"
      ],
      "metadata": {
        "id": "HqrpLU9nEva0"
      },
      "execution_count": 124,
      "outputs": []
    },
    {
      "cell_type": "code",
      "source": [
        "x_train, x_test, y_train, y_test = train_test_split(x, y, test_size=0.2, random_state=42, stratify=y)"
      ],
      "metadata": {
        "id": "Pi1ibPkhE1Qo"
      },
      "execution_count": 125,
      "outputs": []
    },
    {
      "cell_type": "code",
      "source": [
        "scaler = StandardScaler()\n",
        "scaler.fit(x_train)\n",
        "x_train_scaled = scaler.transform(x_train)\n",
        "x_test_scaled = scaler.transform(x_test)"
      ],
      "metadata": {
        "id": "_FOxxYtLE-jT"
      },
      "execution_count": 126,
      "outputs": []
    },
    {
      "cell_type": "markdown",
      "source": [
        "**d) Optionally perform a simple train/test split (final holdout) to evaluate final test error — the evaluation methods below will operate inside the training partition when needed.**"
      ],
      "metadata": {
        "id": "4uHeoA-RFrSg"
      }
    },
    {
      "cell_type": "code",
      "source": [
        "from sklearn.ensemble import RandomForestClassifier\n",
        "from sklearn.metrics import accuracy_score"
      ],
      "metadata": {
        "id": "gvFTgEtLIqG2"
      },
      "execution_count": 127,
      "outputs": []
    },
    {
      "cell_type": "code",
      "source": [
        "# performing cross validation with scaling\n",
        "skf = StratifiedKFold(n_splits=5, shuffle=True, random_state=42)\n",
        "\n",
        "for fold, (train_idx, val_idx) in enumerate(skf.split(x_train, y_train), 1):\n",
        "    x_train_fold, x_val_fold = x_train.iloc[train_idx], x_train.iloc[val_idx]\n",
        "    y_train_fold, y_val_fold = y_train.iloc[train_idx], y_train.iloc[val_idx]\n",
        "\n",
        "    # initialize scaler and fit on training fold only\n",
        "    scaler = StandardScaler()\n",
        "    scaler.fit(x_train_fold)\n",
        "\n",
        "    # transform train and validation fold\n",
        "    x_train_scaled = scaler.transform(x_train_fold)\n",
        "    x_val_scaled = scaler.transform(x_val_fold)\n",
        "\n",
        "    # model training usi9ng RandomForest Classifier\n",
        "    model = RandomForestClassifier(random_state=42)\n",
        "    model.fit(x_train_scaled, y_train_fold)\n",
        "\n",
        "    # validation and prediction for the fold\n",
        "    y_val_pred = model.predict(x_val_scaled)\n",
        "    val_accuracy = accuracy_score(y_val_fold, y_val_pred) * 100\n",
        "    print(f\"Fold {fold} validation accuracy: {val_accuracy:.4f}\")"
      ],
      "metadata": {
        "colab": {
          "base_uri": "https://localhost:8080/"
        },
        "id": "ottAoUS-IiIZ",
        "outputId": "6fae23ea-087f-44c8-bb18-8eee6cec0b42"
      },
      "execution_count": 128,
      "outputs": [
        {
          "output_type": "stream",
          "name": "stdout",
          "text": [
            "Fold 1 validation accuracy: 78.0488\n",
            "Fold 2 validation accuracy: 73.1707\n",
            "Fold 3 validation accuracy: 79.6748\n",
            "Fold 4 validation accuracy: 73.1707\n",
            "Fold 5 validation accuracy: 77.8689\n"
          ]
        }
      ]
    },
    {
      "cell_type": "code",
      "source": [
        "final_scaler = StandardScaler()\n",
        "final_scaler.fit(x_train)\n",
        "x_train_scaled_full = final_scaler.transform(x_train)\n",
        "x_test_scaled = final_scaler.transform(x_test)\n",
        "\n",
        "final_model = RandomForestClassifier(random_state=42)\n",
        "final_model.fit(x_train_scaled_full, y_train)\n",
        "\n",
        "y_test_pred = final_model.predict(x_test_scaled)\n",
        "test_accuracy = accuracy_score(y_test, y_test_pred) * 100\n",
        "print(f\"Final test accuracy: {test_accuracy:.4f}\")"
      ],
      "metadata": {
        "colab": {
          "base_uri": "https://localhost:8080/"
        },
        "id": "42vGTEQ1KF3P",
        "outputId": "a77170c1-970a-4118-c485-86f09cc8f34b"
      },
      "execution_count": 129,
      "outputs": [
        {
          "output_type": "stream",
          "name": "stdout",
          "text": [
            "Final test accuracy: 75.9740\n"
          ]
        }
      ]
    },
    {
      "cell_type": "markdown",
      "source": [
        "**Complete the following tasks and submit code, results (tables/plots), and short written answers (1–3 paragraphs each) interpreting results.**"
      ],
      "metadata": {
        "id": "e1B0eqYcLcaR"
      }
    },
    {
      "cell_type": "markdown",
      "source": [
        "**Q1 — Validation set (holdout)**"
      ],
      "metadata": {
        "id": "GEkG4gmhLgd9"
      }
    },
    {
      "cell_type": "markdown",
      "source": [
        "**a) Randomly split the data into training (70%) and holdout test (30%) sets (set a random seed and report it).**"
      ],
      "metadata": {
        "id": "TXzV9lcdLy-F"
      }
    },
    {
      "cell_type": "code",
      "source": [
        "x_train, x_holdout, y_train, y_holdout = train_test_split( x, y, test_size=0.3, random_state=42, stratify=y )\n",
        "\n",
        "print(f\"Training set size: {x_train.shape[0]} samples\")\n",
        "print(f\"Holdout test set size: {x_holdout.shape[0]} samples\")"
      ],
      "metadata": {
        "colab": {
          "base_uri": "https://localhost:8080/"
        },
        "id": "fnX6yOzRLyju",
        "outputId": "b4365977-9924-4ffb-9f27-4d8661a143f2"
      },
      "execution_count": 130,
      "outputs": [
        {
          "output_type": "stream",
          "name": "stdout",
          "text": [
            "Training set size: 537 samples\n",
            "Holdout test set size: 231 samples\n"
          ]
        }
      ]
    },
    {
      "cell_type": "markdown",
      "source": [
        "**b) On the training set, further split into train (80%) and validation (20%) (or simply use a single split: training 70% and validation 30% — be explicit).**"
      ],
      "metadata": {
        "id": "GRfmvA3oMFf1"
      }
    },
    {
      "cell_type": "code",
      "source": [
        "x_train, x_test, y_train, y_test = train_test_split( x, y, test_size=0.2, random_state=42, stratify=y )\n",
        "\n",
        "print(f\"Training set size: {x_train.shape[0]} samples\")\n",
        "print(f\"Test set size: {x_test.shape[0]} samples\")"
      ],
      "metadata": {
        "colab": {
          "base_uri": "https://localhost:8080/"
        },
        "outputId": "8317ab7d-3062-4301-d451-980300585fc9",
        "id": "w9YWU8mYNBnu"
      },
      "execution_count": 131,
      "outputs": [
        {
          "output_type": "stream",
          "name": "stdout",
          "text": [
            "Training set size: 614 samples\n",
            "Test set size: 154 samples\n"
          ]
        }
      ]
    },
    {
      "cell_type": "markdown",
      "source": [
        "**c) Train a logistic regression classifier (use scikit‑learn's LogisticRegression or implement from scratch) with default regularization first.**"
      ],
      "metadata": {
        "id": "CAYbBstVMIEV"
      }
    },
    {
      "cell_type": "code",
      "source": [
        "from sklearn.linear_model import LogisticRegression\n",
        "model = LogisticRegression(max_iter=1000, random_state=42)\n",
        "model.fit(x_train, y_train)"
      ],
      "metadata": {
        "colab": {
          "base_uri": "https://localhost:8080/",
          "height": 80
        },
        "id": "8R0Zbwl5MQM4",
        "outputId": "83b04829-8649-44c8-8526-a7eaa1168f32"
      },
      "execution_count": 132,
      "outputs": [
        {
          "output_type": "execute_result",
          "data": {
            "text/plain": [
              "LogisticRegression(max_iter=1000, random_state=42)"
            ],
            "text/html": [
              "<style>#sk-container-id-6 {\n",
              "  /* Definition of color scheme common for light and dark mode */\n",
              "  --sklearn-color-text: #000;\n",
              "  --sklearn-color-text-muted: #666;\n",
              "  --sklearn-color-line: gray;\n",
              "  /* Definition of color scheme for unfitted estimators */\n",
              "  --sklearn-color-unfitted-level-0: #fff5e6;\n",
              "  --sklearn-color-unfitted-level-1: #f6e4d2;\n",
              "  --sklearn-color-unfitted-level-2: #ffe0b3;\n",
              "  --sklearn-color-unfitted-level-3: chocolate;\n",
              "  /* Definition of color scheme for fitted estimators */\n",
              "  --sklearn-color-fitted-level-0: #f0f8ff;\n",
              "  --sklearn-color-fitted-level-1: #d4ebff;\n",
              "  --sklearn-color-fitted-level-2: #b3dbfd;\n",
              "  --sklearn-color-fitted-level-3: cornflowerblue;\n",
              "\n",
              "  /* Specific color for light theme */\n",
              "  --sklearn-color-text-on-default-background: var(--sg-text-color, var(--theme-code-foreground, var(--jp-content-font-color1, black)));\n",
              "  --sklearn-color-background: var(--sg-background-color, var(--theme-background, var(--jp-layout-color0, white)));\n",
              "  --sklearn-color-border-box: var(--sg-text-color, var(--theme-code-foreground, var(--jp-content-font-color1, black)));\n",
              "  --sklearn-color-icon: #696969;\n",
              "\n",
              "  @media (prefers-color-scheme: dark) {\n",
              "    /* Redefinition of color scheme for dark theme */\n",
              "    --sklearn-color-text-on-default-background: var(--sg-text-color, var(--theme-code-foreground, var(--jp-content-font-color1, white)));\n",
              "    --sklearn-color-background: var(--sg-background-color, var(--theme-background, var(--jp-layout-color0, #111)));\n",
              "    --sklearn-color-border-box: var(--sg-text-color, var(--theme-code-foreground, var(--jp-content-font-color1, white)));\n",
              "    --sklearn-color-icon: #878787;\n",
              "  }\n",
              "}\n",
              "\n",
              "#sk-container-id-6 {\n",
              "  color: var(--sklearn-color-text);\n",
              "}\n",
              "\n",
              "#sk-container-id-6 pre {\n",
              "  padding: 0;\n",
              "}\n",
              "\n",
              "#sk-container-id-6 input.sk-hidden--visually {\n",
              "  border: 0;\n",
              "  clip: rect(1px 1px 1px 1px);\n",
              "  clip: rect(1px, 1px, 1px, 1px);\n",
              "  height: 1px;\n",
              "  margin: -1px;\n",
              "  overflow: hidden;\n",
              "  padding: 0;\n",
              "  position: absolute;\n",
              "  width: 1px;\n",
              "}\n",
              "\n",
              "#sk-container-id-6 div.sk-dashed-wrapped {\n",
              "  border: 1px dashed var(--sklearn-color-line);\n",
              "  margin: 0 0.4em 0.5em 0.4em;\n",
              "  box-sizing: border-box;\n",
              "  padding-bottom: 0.4em;\n",
              "  background-color: var(--sklearn-color-background);\n",
              "}\n",
              "\n",
              "#sk-container-id-6 div.sk-container {\n",
              "  /* jupyter's `normalize.less` sets `[hidden] { display: none; }`\n",
              "     but bootstrap.min.css set `[hidden] { display: none !important; }`\n",
              "     so we also need the `!important` here to be able to override the\n",
              "     default hidden behavior on the sphinx rendered scikit-learn.org.\n",
              "     See: https://github.com/scikit-learn/scikit-learn/issues/21755 */\n",
              "  display: inline-block !important;\n",
              "  position: relative;\n",
              "}\n",
              "\n",
              "#sk-container-id-6 div.sk-text-repr-fallback {\n",
              "  display: none;\n",
              "}\n",
              "\n",
              "div.sk-parallel-item,\n",
              "div.sk-serial,\n",
              "div.sk-item {\n",
              "  /* draw centered vertical line to link estimators */\n",
              "  background-image: linear-gradient(var(--sklearn-color-text-on-default-background), var(--sklearn-color-text-on-default-background));\n",
              "  background-size: 2px 100%;\n",
              "  background-repeat: no-repeat;\n",
              "  background-position: center center;\n",
              "}\n",
              "\n",
              "/* Parallel-specific style estimator block */\n",
              "\n",
              "#sk-container-id-6 div.sk-parallel-item::after {\n",
              "  content: \"\";\n",
              "  width: 100%;\n",
              "  border-bottom: 2px solid var(--sklearn-color-text-on-default-background);\n",
              "  flex-grow: 1;\n",
              "}\n",
              "\n",
              "#sk-container-id-6 div.sk-parallel {\n",
              "  display: flex;\n",
              "  align-items: stretch;\n",
              "  justify-content: center;\n",
              "  background-color: var(--sklearn-color-background);\n",
              "  position: relative;\n",
              "}\n",
              "\n",
              "#sk-container-id-6 div.sk-parallel-item {\n",
              "  display: flex;\n",
              "  flex-direction: column;\n",
              "}\n",
              "\n",
              "#sk-container-id-6 div.sk-parallel-item:first-child::after {\n",
              "  align-self: flex-end;\n",
              "  width: 50%;\n",
              "}\n",
              "\n",
              "#sk-container-id-6 div.sk-parallel-item:last-child::after {\n",
              "  align-self: flex-start;\n",
              "  width: 50%;\n",
              "}\n",
              "\n",
              "#sk-container-id-6 div.sk-parallel-item:only-child::after {\n",
              "  width: 0;\n",
              "}\n",
              "\n",
              "/* Serial-specific style estimator block */\n",
              "\n",
              "#sk-container-id-6 div.sk-serial {\n",
              "  display: flex;\n",
              "  flex-direction: column;\n",
              "  align-items: center;\n",
              "  background-color: var(--sklearn-color-background);\n",
              "  padding-right: 1em;\n",
              "  padding-left: 1em;\n",
              "}\n",
              "\n",
              "\n",
              "/* Toggleable style: style used for estimator/Pipeline/ColumnTransformer box that is\n",
              "clickable and can be expanded/collapsed.\n",
              "- Pipeline and ColumnTransformer use this feature and define the default style\n",
              "- Estimators will overwrite some part of the style using the `sk-estimator` class\n",
              "*/\n",
              "\n",
              "/* Pipeline and ColumnTransformer style (default) */\n",
              "\n",
              "#sk-container-id-6 div.sk-toggleable {\n",
              "  /* Default theme specific background. It is overwritten whether we have a\n",
              "  specific estimator or a Pipeline/ColumnTransformer */\n",
              "  background-color: var(--sklearn-color-background);\n",
              "}\n",
              "\n",
              "/* Toggleable label */\n",
              "#sk-container-id-6 label.sk-toggleable__label {\n",
              "  cursor: pointer;\n",
              "  display: flex;\n",
              "  width: 100%;\n",
              "  margin-bottom: 0;\n",
              "  padding: 0.5em;\n",
              "  box-sizing: border-box;\n",
              "  text-align: center;\n",
              "  align-items: start;\n",
              "  justify-content: space-between;\n",
              "  gap: 0.5em;\n",
              "}\n",
              "\n",
              "#sk-container-id-6 label.sk-toggleable__label .caption {\n",
              "  font-size: 0.6rem;\n",
              "  font-weight: lighter;\n",
              "  color: var(--sklearn-color-text-muted);\n",
              "}\n",
              "\n",
              "#sk-container-id-6 label.sk-toggleable__label-arrow:before {\n",
              "  /* Arrow on the left of the label */\n",
              "  content: \"▸\";\n",
              "  float: left;\n",
              "  margin-right: 0.25em;\n",
              "  color: var(--sklearn-color-icon);\n",
              "}\n",
              "\n",
              "#sk-container-id-6 label.sk-toggleable__label-arrow:hover:before {\n",
              "  color: var(--sklearn-color-text);\n",
              "}\n",
              "\n",
              "/* Toggleable content - dropdown */\n",
              "\n",
              "#sk-container-id-6 div.sk-toggleable__content {\n",
              "  max-height: 0;\n",
              "  max-width: 0;\n",
              "  overflow: hidden;\n",
              "  text-align: left;\n",
              "  /* unfitted */\n",
              "  background-color: var(--sklearn-color-unfitted-level-0);\n",
              "}\n",
              "\n",
              "#sk-container-id-6 div.sk-toggleable__content.fitted {\n",
              "  /* fitted */\n",
              "  background-color: var(--sklearn-color-fitted-level-0);\n",
              "}\n",
              "\n",
              "#sk-container-id-6 div.sk-toggleable__content pre {\n",
              "  margin: 0.2em;\n",
              "  border-radius: 0.25em;\n",
              "  color: var(--sklearn-color-text);\n",
              "  /* unfitted */\n",
              "  background-color: var(--sklearn-color-unfitted-level-0);\n",
              "}\n",
              "\n",
              "#sk-container-id-6 div.sk-toggleable__content.fitted pre {\n",
              "  /* unfitted */\n",
              "  background-color: var(--sklearn-color-fitted-level-0);\n",
              "}\n",
              "\n",
              "#sk-container-id-6 input.sk-toggleable__control:checked~div.sk-toggleable__content {\n",
              "  /* Expand drop-down */\n",
              "  max-height: 200px;\n",
              "  max-width: 100%;\n",
              "  overflow: auto;\n",
              "}\n",
              "\n",
              "#sk-container-id-6 input.sk-toggleable__control:checked~label.sk-toggleable__label-arrow:before {\n",
              "  content: \"▾\";\n",
              "}\n",
              "\n",
              "/* Pipeline/ColumnTransformer-specific style */\n",
              "\n",
              "#sk-container-id-6 div.sk-label input.sk-toggleable__control:checked~label.sk-toggleable__label {\n",
              "  color: var(--sklearn-color-text);\n",
              "  background-color: var(--sklearn-color-unfitted-level-2);\n",
              "}\n",
              "\n",
              "#sk-container-id-6 div.sk-label.fitted input.sk-toggleable__control:checked~label.sk-toggleable__label {\n",
              "  background-color: var(--sklearn-color-fitted-level-2);\n",
              "}\n",
              "\n",
              "/* Estimator-specific style */\n",
              "\n",
              "/* Colorize estimator box */\n",
              "#sk-container-id-6 div.sk-estimator input.sk-toggleable__control:checked~label.sk-toggleable__label {\n",
              "  /* unfitted */\n",
              "  background-color: var(--sklearn-color-unfitted-level-2);\n",
              "}\n",
              "\n",
              "#sk-container-id-6 div.sk-estimator.fitted input.sk-toggleable__control:checked~label.sk-toggleable__label {\n",
              "  /* fitted */\n",
              "  background-color: var(--sklearn-color-fitted-level-2);\n",
              "}\n",
              "\n",
              "#sk-container-id-6 div.sk-label label.sk-toggleable__label,\n",
              "#sk-container-id-6 div.sk-label label {\n",
              "  /* The background is the default theme color */\n",
              "  color: var(--sklearn-color-text-on-default-background);\n",
              "}\n",
              "\n",
              "/* On hover, darken the color of the background */\n",
              "#sk-container-id-6 div.sk-label:hover label.sk-toggleable__label {\n",
              "  color: var(--sklearn-color-text);\n",
              "  background-color: var(--sklearn-color-unfitted-level-2);\n",
              "}\n",
              "\n",
              "/* Label box, darken color on hover, fitted */\n",
              "#sk-container-id-6 div.sk-label.fitted:hover label.sk-toggleable__label.fitted {\n",
              "  color: var(--sklearn-color-text);\n",
              "  background-color: var(--sklearn-color-fitted-level-2);\n",
              "}\n",
              "\n",
              "/* Estimator label */\n",
              "\n",
              "#sk-container-id-6 div.sk-label label {\n",
              "  font-family: monospace;\n",
              "  font-weight: bold;\n",
              "  display: inline-block;\n",
              "  line-height: 1.2em;\n",
              "}\n",
              "\n",
              "#sk-container-id-6 div.sk-label-container {\n",
              "  text-align: center;\n",
              "}\n",
              "\n",
              "/* Estimator-specific */\n",
              "#sk-container-id-6 div.sk-estimator {\n",
              "  font-family: monospace;\n",
              "  border: 1px dotted var(--sklearn-color-border-box);\n",
              "  border-radius: 0.25em;\n",
              "  box-sizing: border-box;\n",
              "  margin-bottom: 0.5em;\n",
              "  /* unfitted */\n",
              "  background-color: var(--sklearn-color-unfitted-level-0);\n",
              "}\n",
              "\n",
              "#sk-container-id-6 div.sk-estimator.fitted {\n",
              "  /* fitted */\n",
              "  background-color: var(--sklearn-color-fitted-level-0);\n",
              "}\n",
              "\n",
              "/* on hover */\n",
              "#sk-container-id-6 div.sk-estimator:hover {\n",
              "  /* unfitted */\n",
              "  background-color: var(--sklearn-color-unfitted-level-2);\n",
              "}\n",
              "\n",
              "#sk-container-id-6 div.sk-estimator.fitted:hover {\n",
              "  /* fitted */\n",
              "  background-color: var(--sklearn-color-fitted-level-2);\n",
              "}\n",
              "\n",
              "/* Specification for estimator info (e.g. \"i\" and \"?\") */\n",
              "\n",
              "/* Common style for \"i\" and \"?\" */\n",
              "\n",
              ".sk-estimator-doc-link,\n",
              "a:link.sk-estimator-doc-link,\n",
              "a:visited.sk-estimator-doc-link {\n",
              "  float: right;\n",
              "  font-size: smaller;\n",
              "  line-height: 1em;\n",
              "  font-family: monospace;\n",
              "  background-color: var(--sklearn-color-background);\n",
              "  border-radius: 1em;\n",
              "  height: 1em;\n",
              "  width: 1em;\n",
              "  text-decoration: none !important;\n",
              "  margin-left: 0.5em;\n",
              "  text-align: center;\n",
              "  /* unfitted */\n",
              "  border: var(--sklearn-color-unfitted-level-1) 1pt solid;\n",
              "  color: var(--sklearn-color-unfitted-level-1);\n",
              "}\n",
              "\n",
              ".sk-estimator-doc-link.fitted,\n",
              "a:link.sk-estimator-doc-link.fitted,\n",
              "a:visited.sk-estimator-doc-link.fitted {\n",
              "  /* fitted */\n",
              "  border: var(--sklearn-color-fitted-level-1) 1pt solid;\n",
              "  color: var(--sklearn-color-fitted-level-1);\n",
              "}\n",
              "\n",
              "/* On hover */\n",
              "div.sk-estimator:hover .sk-estimator-doc-link:hover,\n",
              ".sk-estimator-doc-link:hover,\n",
              "div.sk-label-container:hover .sk-estimator-doc-link:hover,\n",
              ".sk-estimator-doc-link:hover {\n",
              "  /* unfitted */\n",
              "  background-color: var(--sklearn-color-unfitted-level-3);\n",
              "  color: var(--sklearn-color-background);\n",
              "  text-decoration: none;\n",
              "}\n",
              "\n",
              "div.sk-estimator.fitted:hover .sk-estimator-doc-link.fitted:hover,\n",
              ".sk-estimator-doc-link.fitted:hover,\n",
              "div.sk-label-container:hover .sk-estimator-doc-link.fitted:hover,\n",
              ".sk-estimator-doc-link.fitted:hover {\n",
              "  /* fitted */\n",
              "  background-color: var(--sklearn-color-fitted-level-3);\n",
              "  color: var(--sklearn-color-background);\n",
              "  text-decoration: none;\n",
              "}\n",
              "\n",
              "/* Span, style for the box shown on hovering the info icon */\n",
              ".sk-estimator-doc-link span {\n",
              "  display: none;\n",
              "  z-index: 9999;\n",
              "  position: relative;\n",
              "  font-weight: normal;\n",
              "  right: .2ex;\n",
              "  padding: .5ex;\n",
              "  margin: .5ex;\n",
              "  width: min-content;\n",
              "  min-width: 20ex;\n",
              "  max-width: 50ex;\n",
              "  color: var(--sklearn-color-text);\n",
              "  box-shadow: 2pt 2pt 4pt #999;\n",
              "  /* unfitted */\n",
              "  background: var(--sklearn-color-unfitted-level-0);\n",
              "  border: .5pt solid var(--sklearn-color-unfitted-level-3);\n",
              "}\n",
              "\n",
              ".sk-estimator-doc-link.fitted span {\n",
              "  /* fitted */\n",
              "  background: var(--sklearn-color-fitted-level-0);\n",
              "  border: var(--sklearn-color-fitted-level-3);\n",
              "}\n",
              "\n",
              ".sk-estimator-doc-link:hover span {\n",
              "  display: block;\n",
              "}\n",
              "\n",
              "/* \"?\"-specific style due to the `<a>` HTML tag */\n",
              "\n",
              "#sk-container-id-6 a.estimator_doc_link {\n",
              "  float: right;\n",
              "  font-size: 1rem;\n",
              "  line-height: 1em;\n",
              "  font-family: monospace;\n",
              "  background-color: var(--sklearn-color-background);\n",
              "  border-radius: 1rem;\n",
              "  height: 1rem;\n",
              "  width: 1rem;\n",
              "  text-decoration: none;\n",
              "  /* unfitted */\n",
              "  color: var(--sklearn-color-unfitted-level-1);\n",
              "  border: var(--sklearn-color-unfitted-level-1) 1pt solid;\n",
              "}\n",
              "\n",
              "#sk-container-id-6 a.estimator_doc_link.fitted {\n",
              "  /* fitted */\n",
              "  border: var(--sklearn-color-fitted-level-1) 1pt solid;\n",
              "  color: var(--sklearn-color-fitted-level-1);\n",
              "}\n",
              "\n",
              "/* On hover */\n",
              "#sk-container-id-6 a.estimator_doc_link:hover {\n",
              "  /* unfitted */\n",
              "  background-color: var(--sklearn-color-unfitted-level-3);\n",
              "  color: var(--sklearn-color-background);\n",
              "  text-decoration: none;\n",
              "}\n",
              "\n",
              "#sk-container-id-6 a.estimator_doc_link.fitted:hover {\n",
              "  /* fitted */\n",
              "  background-color: var(--sklearn-color-fitted-level-3);\n",
              "}\n",
              "</style><div id=\"sk-container-id-6\" class=\"sk-top-container\"><div class=\"sk-text-repr-fallback\"><pre>LogisticRegression(max_iter=1000, random_state=42)</pre><b>In a Jupyter environment, please rerun this cell to show the HTML representation or trust the notebook. <br />On GitHub, the HTML representation is unable to render, please try loading this page with nbviewer.org.</b></div><div class=\"sk-container\" hidden><div class=\"sk-item\"><div class=\"sk-estimator fitted sk-toggleable\"><input class=\"sk-toggleable__control sk-hidden--visually\" id=\"sk-estimator-id-6\" type=\"checkbox\" checked><label for=\"sk-estimator-id-6\" class=\"sk-toggleable__label fitted sk-toggleable__label-arrow\"><div><div>LogisticRegression</div></div><div><a class=\"sk-estimator-doc-link fitted\" rel=\"noreferrer\" target=\"_blank\" href=\"https://scikit-learn.org/1.6/modules/generated/sklearn.linear_model.LogisticRegression.html\">?<span>Documentation for LogisticRegression</span></a><span class=\"sk-estimator-doc-link fitted\">i<span>Fitted</span></span></div></label><div class=\"sk-toggleable__content fitted\"><pre>LogisticRegression(max_iter=1000, random_state=42)</pre></div> </div></div></div></div>"
            ]
          },
          "metadata": {},
          "execution_count": 132
        }
      ]
    },
    {
      "cell_type": "markdown",
      "source": [
        "**d) Report training, validation, and holdout test accuracy, precision, recall, F1, and ROC‑AUC**"
      ],
      "metadata": {
        "id": "gr_F9jEOMLU9"
      }
    },
    {
      "cell_type": "code",
      "source": [
        "from sklearn.metrics import accuracy_score, precision_score, recall_score, f1_score, roc_auc_score"
      ],
      "metadata": {
        "id": "v6tufz6JO2sd"
      },
      "execution_count": 133,
      "outputs": []
    },
    {
      "cell_type": "code",
      "source": [
        "def compute_metrics(y_true, y_pred, y_proba):\n",
        "    return {\n",
        "        'accuracy': accuracy_score(y_true, y_pred),\n",
        "        'precision': precision_score(y_true, y_pred, zero_division=0),\n",
        "        'recall': recall_score(y_true, y_pred, zero_division=0),\n",
        "        'f1': f1_score(y_true, y_pred, zero_division=0),\n",
        "        'roc_auc': roc_auc_score(y_true, y_proba)\n",
        "    }"
      ],
      "metadata": {
        "id": "_XldRK7dMO6F"
      },
      "execution_count": 134,
      "outputs": []
    },
    {
      "cell_type": "markdown",
      "source": [
        "**e) How sensitive is the validation estimate to the random split? Repeat the holdout (re‑randomize) 30 times and report mean and standard deviation of validation error**"
      ],
      "metadata": {
        "id": "K8_2QBBnMPSu"
      }
    },
    {
      "cell_type": "markdown",
      "source": [
        "- Training accuracy is usually higher than validation/test (slight overfitting). Validation and test are close, showing the model generalizes reasonably well.\n",
        "- While holdout gives a quick estimate, it can fluctuate significantly depending on how the split happens. This motivates more robust methods (k-fold CV, LOOCV, bootstrap)"
      ],
      "metadata": {
        "id": "rCQvPhn-F3PF"
      }
    },
    {
      "cell_type": "markdown",
      "source": [
        "**Q2 — k‑Fold Cross‑Validation**"
      ],
      "metadata": {
        "id": "5302JOFrF8JX"
      }
    },
    {
      "cell_type": "markdown",
      "source": [
        "**a) Implement k‑fold CV with k = 5 and k = 10 using both non‑stratified and stratified versions (use KFold and StratifiedKFold). For each setting, compute the mean cross‑validation error and its standard deviation (report accuracy and ROC‑AUC at minimum).**"
      ],
      "metadata": {
        "id": "34z4F3h6Gf7d"
      }
    },
    {
      "cell_type": "code",
      "source": [
        "import pandas as pd\n",
        "import numpy as np\n",
        "from sklearn.model_selection import KFold, StratifiedKFold, cross_val_score\n",
        "from sklearn.linear_model import LogisticRegression\n",
        "from sklearn.preprocessing import StandardScaler\n",
        "from sklearn.pipeline import make_pipeline\n",
        "\n",
        "data = pd.read_csv('diabetes.csv')\n",
        "X = data.drop(\"Outcome\", axis=1)\n",
        "y = data[\"Outcome\"]\n",
        "\n",
        "cols_with_missing = [\"Glucose\", \"BloodPressure\", \"SkinThickness\", \"Insulin\", \"BMI\"]\n",
        "X[cols_with_missing] = X[cols_with_missing].replace(0, np.nan)\n",
        "X = X.fillna(X.median())"
      ],
      "metadata": {
        "id": "06s7yfokGi-N"
      },
      "execution_count": 135,
      "outputs": []
    },
    {
      "cell_type": "code",
      "source": [
        "def evaluate_cv(X, y, cv, k):\n",
        "    metrics = {\"accuracy\": [], \"precision\": [], \"recall\": [], \"f1\": [], \"roc_auc\": []}\n",
        "\n",
        "    for train_idx, val_idx in cv.split(X, y):\n",
        "        X_train, X_val = X.iloc[train_idx], X.iloc[val_idx]\n",
        "        y_train, y_val = y.iloc[train_idx], y.iloc[val_idx]\n",
        "\n",
        "        # Scale inside fold\n",
        "        scaler = StandardScaler()\n",
        "        X_train = scaler.fit_transform(X_train)\n",
        "        X_val = scaler.transform(X_val)\n",
        "\n",
        "        # Train logistic regression\n",
        "        clf = LogisticRegression(max_iter=1000)\n",
        "        clf.fit(X_train, y_train)\n",
        "\n",
        "        # Predictions\n",
        "        y_val_pred = clf.predict(X_val)\n",
        "\n",
        "        # Collect metrics\n",
        "        metrics[\"accuracy\"].append(accuracy_score(y_val, y_val_pred))\n",
        "        metrics[\"precision\"].append(precision_score(y_val, y_val_pred))\n",
        "        metrics[\"recall\"].append(recall_score(y_val, y_val_pred))\n",
        "        metrics[\"f1\"].append(f1_score(y_val, y_val_pred))\n",
        "        metrics[\"roc_auc\"].append(roc_auc_score(y_val, y_val_pred))\n",
        "\n",
        "    return {m: (np.mean(v), np.std(v)) for m, v in metrics.items()}"
      ],
      "metadata": {
        "id": "YduZCPQjHTvD"
      },
      "execution_count": 136,
      "outputs": []
    },
    {
      "cell_type": "code",
      "source": [
        "results = {}\n",
        "\n",
        "for k in [5, 10]:\n",
        "    results[f\"KFold_{k}\"] = evaluate_cv(X, y, KFold(n_splits=k, shuffle=True, random_state=42), k)\n",
        "    results[f\"StratifiedKFold_{k}\"] = evaluate_cv(X, y, StratifiedKFold(n_splits=k, shuffle=True, random_state=42), k)\n",
        "\n",
        "results"
      ],
      "metadata": {
        "colab": {
          "base_uri": "https://localhost:8080/"
        },
        "id": "RXIOfYjQHVL_",
        "outputId": "d9de6de3-1e7f-4945-c108-5df6086b96ad"
      },
      "execution_count": 137,
      "outputs": [
        {
          "output_type": "execute_result",
          "data": {
            "text/plain": [
              "{'KFold_5': {'accuracy': (np.float64(0.7708683473389355),\n",
              "   np.float64(0.02686986249717815)),\n",
              "  'precision': (np.float64(0.7230180180180181),\n",
              "   np.float64(0.046732014491949476)),\n",
              "  'recall': (np.float64(0.5670218561011532), np.float64(0.04517927709883636)),\n",
              "  'f1': (np.float64(0.6326991735745592), np.float64(0.020083829013693648)),\n",
              "  'roc_auc': (np.float64(0.7245607975472785),\n",
              "   np.float64(0.01852838397339406))},\n",
              " 'StratifiedKFold_5': {'accuracy': (np.float64(0.7733978439860792),\n",
              "   np.float64(0.015645042231695692)),\n",
              "  'precision': (np.float64(0.7285611697776855),\n",
              "   np.float64(0.05873913799760102)),\n",
              "  'recall': (np.float64(0.5710691823899372), np.float64(0.04735584610173129)),\n",
              "  'f1': (np.float64(0.6370561125344882), np.float64(0.02222864592799808)),\n",
              "  'roc_auc': (np.float64(0.7265345911949685),\n",
              "   np.float64(0.01470857413926529))},\n",
              " 'KFold_10': {'accuracy': (np.float64(0.7707792207792208),\n",
              "   np.float64(0.05842377803894876)),\n",
              "  'precision': (np.float64(0.7212126591731854),\n",
              "   np.float64(0.10042433275948927)),\n",
              "  'recall': (np.float64(0.5623062886933854), np.float64(0.08900902483184234)),\n",
              "  'f1': (np.float64(0.6292368309389587), np.float64(0.08822691865920203)),\n",
              "  'roc_auc': (np.float64(0.7229520209087272),\n",
              "   np.float64(0.05788984215035588))},\n",
              " 'StratifiedKFold_10': {'accuracy': (np.float64(0.7668318523581681),\n",
              "   np.float64(0.025296646506723093)),\n",
              "  'precision': (np.float64(0.7264007936507937),\n",
              "   np.float64(0.08284584555020186)),\n",
              "  'recall': (np.float64(0.5562678062678063), np.float64(0.08612580849643656)),\n",
              "  'f1': (np.float64(0.6226043861960772), np.float64(0.04551137865936098)),\n",
              "  'roc_auc': (np.float64(0.7181339031339031),\n",
              "   np.float64(0.028906924836235994))}}"
            ]
          },
          "metadata": {},
          "execution_count": 137
        }
      ]
    },
    {
      "cell_type": "markdown",
      "source": [
        "**b) For each setting, compute the mean cross‑validation error and its standard deviation (report accuracy and ROC‑AUC at minimum).**"
      ],
      "metadata": {
        "id": "BJYaD7AzHp3K"
      }
    },
    {
      "cell_type": "code",
      "source": [
        "def summarize_cv_results(results_dict):\n",
        "    summary = {}\n",
        "    for method, metrics in results_dict.items():\n",
        "        summary[method] = {\n",
        "            \"accuracy_mean\": metrics[\"accuracy\"][0],\n",
        "            \"accuracy_std\": metrics[\"accuracy\"][1],\n",
        "            \"roc_auc_mean\": metrics[\"roc_auc\"][0],\n",
        "            \"roc_auc_std\": metrics[\"roc_auc\"][1]\n",
        "        }\n",
        "    return pd.DataFrame(summary).T\n",
        "\n",
        "cv_summary = summarize_cv_results(results)\n",
        "print(cv_summary)"
      ],
      "metadata": {
        "colab": {
          "base_uri": "https://localhost:8080/"
        },
        "id": "atj-0QfTHphU",
        "outputId": "a2f5106b-2797-4d5f-ba5e-b251e3070fa4"
      },
      "execution_count": 138,
      "outputs": [
        {
          "output_type": "stream",
          "name": "stdout",
          "text": [
            "                    accuracy_mean  accuracy_std  roc_auc_mean  roc_auc_std\n",
            "KFold_5                  0.770868      0.026870      0.724561     0.018528\n",
            "StratifiedKFold_5        0.773398      0.015645      0.726535     0.014709\n",
            "KFold_10                 0.770779      0.058424      0.722952     0.057890\n",
            "StratifiedKFold_10       0.766832      0.025297      0.718134     0.028907\n"
          ]
        }
      ]
    },
    {
      "cell_type": "markdown",
      "source": [
        "**c) Compare the 5‑fold and 10‑fold estimates. Which gives lower variance? Which is more biased (if you can reason about bias)?**"
      ],
      "metadata": {
        "id": "IYLbAehLIg4u"
      }
    },
    {
      "cell_type": "markdown",
      "source": [
        "- Variance measures how much the estimate of model performance fluctuates across different folds.\n",
        "- Bias measures how far the CV estimate is from the “true” test error (on unseen data).\n",
        "- 5-fold CV has larger test folds, so each training set is smaller, slightly higher bias (underestimates performance).\n",
        "- 10-fold CV has smaller test folds and larger training sets, more data to train, slightly lower bias (closer to true test error)."
      ],
      "metadata": {
        "id": "44hftEAdIWiR"
      }
    },
    {
      "cell_type": "markdown",
      "source": [
        "**d) Compare stratified vs non‑stratified CV. Explain why stratified CV is useful for these datasets.**"
      ],
      "metadata": {
        "id": "1kaLpMvEIi8P"
      }
    },
    {
      "cell_type": "markdown",
      "source": [
        "Observations:\n",
        "- Accuracy / ROC-AUC: Stratified CV slightly improves mean performance.\n",
        "- Variance (std): Stratified CV has lower standard deviation — more stable across folds."
      ],
      "metadata": {
        "id": "U_5-_27DIr5r"
      }
    },
    {
      "cell_type": "markdown",
      "source": [
        "- Class imbalance: Pima dataset has ~65% non-diabetic, ~35% diabetic.\n",
        "- Non-stratified CV: Random splits may produce folds where the minority class (diabetic) is underrepresented → misleading performance estimates.\n",
        "- Stratified CV: Ensures each fold maintains the same class distribution as the original dataset."
      ],
      "metadata": {
        "id": "MnHEr-EdI9Q2"
      }
    },
    {
      "cell_type": "markdown",
      "source": [
        "- For imbalanced datasets like Pima, StratifiedKFold is preferred.\n",
        "- Non-stratified CV can lead to biased or unstable estimates of model performance, particularly for minority class detection."
      ],
      "metadata": {
        "id": "9JA3zv6xJC28"
      }
    },
    {
      "cell_type": "markdown",
      "source": [
        "**Q3 — Leave‑One‑Out Cross‑Validation (LOOCV)**"
      ],
      "metadata": {
        "id": "T7-6fRaCPPC3"
      }
    },
    {
      "cell_type": "markdown",
      "source": [
        "**a) Run LOOCV on the dataset (note: LOOCV can be expensive; for Pima (768 rows) it's feasible but slower — report compute time).**"
      ],
      "metadata": {
        "id": "Uljj2eXHPP5x"
      }
    },
    {
      "cell_type": "code",
      "source": [
        "import time\n",
        "from sklearn.model_selection import LeaveOneOut\n",
        "from sklearn.preprocessing import StandardScaler\n",
        "from sklearn.linear_model import LogisticRegression\n",
        "from sklearn.metrics import accuracy_score, roc_auc_score"
      ],
      "metadata": {
        "id": "vXNhQao-Ph6o"
      },
      "execution_count": 139,
      "outputs": []
    },
    {
      "cell_type": "code",
      "source": [
        "loo = LeaveOneOut()\n",
        "clf = LogisticRegression(max_iter=1000)\n",
        "\n",
        "y_true_all = []\n",
        "y_pred_all = []\n",
        "y_prob_all = []\n",
        "\n",
        "start = time.time()\n",
        "\n",
        "for train_idx, test_idx in loo.split(X):\n",
        "    X_train, X_test = X.iloc[train_idx], X.iloc[test_idx]\n",
        "    y_train, y_test = y.iloc[train_idx], y.iloc[test_idx]\n",
        "\n",
        "    scaler = StandardScaler()\n",
        "    X_train = scaler.fit_transform(X_train)\n",
        "    X_test = scaler.transform(X_test)\n",
        "\n",
        "    clf.fit(X_train, y_train)\n",
        "\n",
        "    y_pred = clf.predict(X_test)\n",
        "    y_prob = clf.predict_proba(X_test)[:, 1]\n",
        "\n",
        "    y_true_all.append(y_test.values[0])\n",
        "    y_pred_all.append(y_pred[0])\n",
        "    y_prob_all.append(y_prob[0])\n",
        "\n",
        "end = time.time()\n",
        "accuracy = accuracy_score(y_true_all, y_pred_all)\n",
        "roc_auc = roc_auc_score(y_true_all, y_prob_all)\n",
        "\n",
        "print(\"LOOCV Results:\")\n",
        "print(f\"Accuracy = {accuracy:.3f}\")\n",
        "print(f\"ROC-AUC  = {roc_auc:.3f}\")\n",
        "print(f\"Compute time = {end - start:.2f} seconds\")"
      ],
      "metadata": {
        "colab": {
          "base_uri": "https://localhost:8080/"
        },
        "id": "3WT8efjyPelZ",
        "outputId": "336f6cef-4438-4231-f952-0428ee517322"
      },
      "execution_count": 140,
      "outputs": [
        {
          "output_type": "stream",
          "name": "stdout",
          "text": [
            "LOOCV Results:\n",
            "Accuracy = 0.768\n",
            "ROC-AUC  = 0.836\n",
            "Compute time = 7.36 seconds\n"
          ]
        }
      ]
    },
    {
      "cell_type": "markdown",
      "source": [
        "**b) Report LOOCV error estimate and compare it to k‑fold (k=10) and holdout estimates.**"
      ],
      "metadata": {
        "id": "W4gOqY2tQTu5"
      }
    },
    {
      "cell_type": "markdown",
      "source": [
        "**LOOCV vs 10-fold CV**\n",
        "- Both give very similar mean estimates (accuracy ~0.77, ROC-AUC ~0.77).\n",
        "- LOOCV uses almost all data for training in each iteration, slightly lower bias.\n",
        "- But LOOCV has higher variance, since each fold is just 1 sample, a single “hard-to-predict” sample can swing the estimate.\n",
        "- 10-fold CV strikes a balance (larger training sets, but test sets big enough for stable averages).\n",
        "\n",
        "**Holdout vs CV methods**\n",
        "- Holdout (single split) gave roughly the same accuracy, but it’s less reliable since it depends on just one random split.\n",
        "- CV methods are more stable because they average across multiple splits."
      ],
      "metadata": {
        "id": "nVgR3BP2Qdf6"
      }
    },
    {
      "cell_type": "markdown",
      "source": [
        "**c) Discuss variance and bias tradeoffs for LOOCV vs k‑fold for logistic regression.**"
      ],
      "metadata": {
        "id": "9aNVCupqQr__"
      }
    },
    {
      "cell_type": "markdown",
      "source": [
        "**LOOCV (Leave-One-Out CV)**\n",
        "\n",
        "Bias\n",
        "- Very low bias because in each iteration the model is trained on n−1 samples (almost the entire dataset).\n",
        "- For logistic regression (a relatively stable model), the estimated error rate is close to what you’d get if you trained on the full dataset.\n",
        "\n",
        "Variance\n",
        "- High variance in error estimate.\n",
        "- Reason: the test set in each fold is just one sample. Whether that single sample is hard to classify or not can cause large fluctuations.\n",
        "- Logistic regression is less unstable than, say, decision trees, but LOOCV still suffers from higher variance compared to k-fold CV.\n",
        "\n",
        "Computation\n",
        "- Needs n fits (768 for Pima dataset) that is computationally expensive, though feasible here."
      ],
      "metadata": {
        "id": "w3doGXxHQtli"
      }
    },
    {
      "cell_type": "markdown",
      "source": [
        "**k-Fold CV (e.g., k=10)**\n",
        "\n",
        "Bias\n",
        "- Slightly higher bias compared to LOOCV, since each model is trained on only (k - 1) / k of the data\n",
        "But the bias is still low, especially with large n\n",
        "\n",
        "Variance\n",
        "- Lower variance than LOOCV, since each test set has more samples\n",
        "- Averaging across folds smooths out the “bad luck” of any single point.\n",
        "\n",
        "Computation\n",
        "- Requires only k fits (10 in this case), so it’s much cheaper.\n"
      ],
      "metadata": {
        "id": "qdQiUj5FRLyD"
      }
    },
    {
      "cell_type": "markdown",
      "source": [
        "**Q4 — Bootstrap Estimation**"
      ],
      "metadata": {
        "id": "-N2nw5YVRitv"
      }
    },
    {
      "cell_type": "markdown",
      "source": [
        "**Implement the nonparametric bootstrap to estimate test error (use 1,000 bootstrap samples if compute resources allow; otherwise use 200–500 samples and justify). For each bootstrap iteration: sample n rows with replacement from the whole dataset to form a bootstrap training set. Use the rows not included in the bootstrap sample (the \"out‑of‑bag\" or OOB set) as the test for that bootstrap iteration. Train logistic regression on the bootstrap sample, evaluate on the OOB set, collect errors.**"
      ],
      "metadata": {
        "id": "BaSGCn8oRqf8"
      }
    },
    {
      "cell_type": "code",
      "source": [
        "import random\n",
        "from collections import Counter\n",
        "\n",
        "n_boot = 1000\n",
        "random_seed = 42\n",
        "np.random.seed(random_seed)\n",
        "random.seed(random_seed)"
      ],
      "metadata": {
        "id": "HMwbt1oYR5dv"
      },
      "execution_count": 141,
      "outputs": []
    },
    {
      "cell_type": "code",
      "source": [
        "n = len(X)\n",
        "acc_list = []\n",
        "roc_list = []\n",
        "valid_roc_count = 0\n",
        "skipped_oob_empty = 0\n",
        "\n",
        "clf = LogisticRegression(max_iter=1000)\n",
        "\n",
        "start_time = time.time()\n",
        "\n",
        "for i in range(n_boot):\n",
        "    boot_idx = np.random.randint(0, n, size=n)\n",
        "    oob_mask = np.ones(n, dtype=bool)\n",
        "    oob_mask[boot_idx] = False\n",
        "    oob_idx = np.where(oob_mask)[0]\n",
        "\n",
        "    if oob_idx.size == 0:\n",
        "      skipped_oob_empty += 1\n",
        "      continue\n",
        "\n",
        "    X_boot = X.iloc[boot_idx].reset_index(drop=True)\n",
        "    y_boot = y.iloc[boot_idx].reset_index(drop=True)\n",
        "\n",
        "    X_oob = X.iloc[oob_idx].reset_index(drop=True)\n",
        "    y_oob = y.iloc[oob_idx].reset_index(drop=True)\n",
        "\n",
        "    scaler = StandardScaler()\n",
        "    X_boot_scaled = scaler.fit_transform(X_boot)\n",
        "    X_oob_scaled = scaler.transform(X_oob)\n",
        "\n",
        "    clf.fit(X_boot_scaled, y_boot)\n",
        "\n",
        "    y_oob_pred = clf.predict(X_oob_scaled)\n",
        "    acc = accuracy_score(y_oob, y_oob_pred)\n",
        "    acc_list.append(acc)\n",
        "\n",
        "    cnt = Counter(y_oob)\n",
        "    if len(cnt) == 2:\n",
        "        y_oob_prob = clf.predict_proba(X_oob_scaled)[:, 1]\n",
        "        try:\n",
        "            roc = roc_auc_score(y_oob, y_oob_prob)\n",
        "            roc_list.append(roc)\n",
        "            valid_roc_count += 1\n",
        "        except ValueError:\n",
        "            pass\n",
        "\n",
        "end_time = time.time()\n",
        "elapsed = end_time - start_time\n",
        "\n",
        "acc_mean = np.mean(acc_list)\n",
        "acc_std = np.std(acc_list)\n",
        "\n",
        "if len(roc_list) > 0:\n",
        "    roc_mean = np.mean(roc_list)\n",
        "    roc_std = np.std(roc_list)\n",
        "else:\n",
        "    roc_mean = None\n",
        "    roc_std = None\n",
        "\n",
        "print(f\"Bootstrap (n_boot={n_boot}) summary:\")\n",
        "print(f\"Total iterations attempted: {n_boot}\")\n",
        "print(f\"Skipped iterations due to empty OOB: {skipped_oob_empty}\")\n",
        "print(f\"Collected accuracy values: {len(acc_list)}\")\n",
        "print(f\"Collected ROC-AUC values: {len(roc_list)} (valid ROC in {valid_roc_count} iterations)\")\n",
        "print()\n",
        "print(f\"Accuracy (mean ± std) = {acc_mean:.4f} ± {acc_std:.4f}\")\n",
        "if roc_mean is not None:\n",
        "    print(f\"ROC-AUC (mean ± std)  = {roc_mean:.4f} ± {roc_std:.4f}\")\n",
        "else:\n",
        "    print(\"ROC-AUC: no valid OOB iterations contained both classes.\")\n",
        "print()\n",
        "print(f\"Elapsed time: {elapsed:.2f} seconds\")\n"
      ],
      "metadata": {
        "colab": {
          "base_uri": "https://localhost:8080/"
        },
        "id": "FSj3loRzSDl5",
        "outputId": "0f80bcc5-7928-454c-be2a-1fe502feb4f8"
      },
      "execution_count": 142,
      "outputs": [
        {
          "output_type": "stream",
          "name": "stdout",
          "text": [
            "Bootstrap (n_boot=1000) summary:\n",
            "Total iterations attempted: 1000\n",
            "Skipped iterations due to empty OOB: 0\n",
            "Collected accuracy values: 1000\n",
            "Collected ROC-AUC values: 1000 (valid ROC in 1000 iterations)\n",
            "\n",
            "Accuracy (mean ± std) = 0.7653 ± 0.0205\n",
            "ROC-AUC (mean ± std)  = 0.8331 ± 0.0200\n",
            "\n",
            "Elapsed time: 12.17 seconds\n"
          ]
        }
      ]
    },
    {
      "cell_type": "markdown",
      "source": [
        "**b) Compute the bootstrap estimate of prediction error, standard error, and construct a 95% confidence interval.**"
      ],
      "metadata": {
        "id": "ibya_mmXScy5"
      }
    },
    {
      "cell_type": "code",
      "source": [
        "B = 1000\n",
        "clf = LogisticRegression(max_iter=1000)\n",
        "acc_list = []\n",
        "\n",
        "start = time.time()\n",
        "\n",
        "for _ in range(B):\n",
        "    boot_idx = np.random.randint(0, n, n)\n",
        "    oob_mask = np.ones(n, dtype=bool)\n",
        "    oob_mask[boot_idx] = False\n",
        "    oob_idx = np.where(oob_mask)[0]\n",
        "\n",
        "    if oob_idx.size == 0:\n",
        "        continue\n",
        "\n",
        "    X_boot, y_boot = X.iloc[boot_idx], y.iloc[boot_idx]\n",
        "    X_oob, y_oob = X.iloc[oob_idx], y.iloc[oob_idx]\n",
        "\n",
        "    scaler = StandardScaler()\n",
        "    X_boot_scaled = scaler.fit_transform(X_boot)\n",
        "    X_oob_scaled = scaler.transform(X_oob)\n",
        "\n",
        "    clf.fit(X_boot_scaled, y_boot)\n",
        "    y_pred = clf.predict(X_oob_scaled)\n",
        "\n",
        "    acc_list.append(accuracy_score(y_oob, y_pred))\n",
        "\n",
        "end = time.time()\n",
        "\n",
        "errors = 1 - np.array(acc_list)\n",
        "error_estimate = np.mean(errors)\n",
        "std_error = np.std(errors, ddof=1) / np.sqrt(len(errors))\n",
        "ci_lower, ci_upper = np.percentile(errors, [2.5, 97.5])\n",
        "\n",
        "print(f\"Bootstrap results (B={B}):\")\n",
        "print(f\"Prediction error estimate = {error_estimate:.4f}\")\n",
        "print(f\"Standard error (SE)       = {std_error:.4f}\")\n",
        "print(f\"95% CI (percentile)       = [{ci_lower:.4f}, {ci_upper:.4f}]\")\n",
        "print(f\"Time taken: {end - start:.2f} seconds\")"
      ],
      "metadata": {
        "colab": {
          "base_uri": "https://localhost:8080/"
        },
        "id": "8chQu0sWShT9",
        "outputId": "07ececbd-55d7-4e9a-d792-ebdbf4d4f56e"
      },
      "execution_count": 143,
      "outputs": [
        {
          "output_type": "stream",
          "name": "stdout",
          "text": [
            "Bootstrap results (B=1000):\n",
            "Prediction error estimate = 0.2345\n",
            "Standard error (SE)       = 0.0006\n",
            "95% CI (percentile)       = [0.1939, 0.2741]\n",
            "Time taken: 8.35 seconds\n"
          ]
        }
      ]
    },
    {
      "cell_type": "markdown",
      "source": [
        "**c) Compare bootstrap error estimate to cross‑validation estimates. Which is higher/lower? Discuss reasons.**"
      ],
      "metadata": {
        "id": "tJtK688cS15G"
      }
    },
    {
      "cell_type": "markdown",
      "source": [
        "- The bootstrap uses out-of-bag (OOB) samples as test sets.\n",
        "- Since each bootstrap sample contains ~63% of unique data points (on average), the OOB set is ~37% of the dataset.\n",
        "- This means each model is trained on a smaller effective training set than in k-fold CV, so the model can underfit slightly.\n",
        "- Raw bootstrap OOB error therefore tends to be optimistic (a bit lower error than a true test set) because the resampled training sets contain many duplicates and the OOB is not a fully independent holdout."
      ],
      "metadata": {
        "id": "DqXOYLHxUwtN"
      }
    },
    {
      "cell_type": "markdown",
      "source": [
        "- Each model is trained on 90% of the dataset and tested on 10%.\n",
        "- Training sets are larger and closer to the “true” dataset distribution.\n",
        "- The CV error is typically less biased but has higher variance if k is small (e.g., 5).\n",
        "- With k=10, the variance is moderate, and estimates are usually a bit higher (worse) than raw bootstrap errors because the models see more unique data per fold."
      ],
      "metadata": {
        "id": "PizZQJznU3wb"
      }
    },
    {
      "cell_type": "markdown",
      "source": [
        "- LOOCV trains on almost the entire dataset (n–1 samples each time).\n",
        "- This gives the lowest bias but the highest variance in error estimates.\n",
        "- It often fluctuates more than 10-fold CV or bootstrap."
      ],
      "metadata": {
        "id": "JMPc0w16U7zB"
      }
    },
    {
      "cell_type": "markdown",
      "source": [
        "**Q5 — Hyperparameter tuning (regularization)**"
      ],
      "metadata": {
        "id": "qqBCMA0FVDqd"
      }
    },
    {
      "cell_type": "markdown",
      "source": [
        "**a) Choose a grid of regularization strengths for logistic regression (e.g., C values in scikit‑learn: [0.001, 0.01, 0.1, 1, 10, 100] or alpha values if using your own implementation).**"
      ],
      "metadata": {
        "id": "OU_LERH7VEnG"
      }
    },
    {
      "cell_type": "code",
      "source": [
        "from sklearn.pipeline import Pipeline\n",
        "\n",
        "C_values = [0.001, 0.01, 0.1, 1, 10, 100]\n",
        "cv = StratifiedKFold(n_splits=10, shuffle=True, random_state=42)\n",
        "\n",
        "results = []\n",
        "for C in C_values:\n",
        "    model = Pipeline([\n",
        "        (\"scaler\", StandardScaler()),\n",
        "        (\"logreg\", LogisticRegression(C=C, max_iter=1000, solver=\"lbfgs\"))\n",
        "    ])\n",
        "\n",
        "    acc = cross_val_score(model, X, y, cv=cv, scoring=\"accuracy\")\n",
        "    auc = cross_val_score(model, X, y, cv=cv, scoring=\"roc_auc\")\n",
        "\n",
        "    results.append({\n",
        "        \"C\": C,\n",
        "        \"Mean Accuracy\": np.mean(acc),\n",
        "        \"Std Accuracy\": np.std(acc),\n",
        "        \"Mean ROC-AUC\": np.mean(auc),\n",
        "        \"Std ROC-AUC\": np.std(auc),\n",
        "    })\n",
        "\n",
        "results_df = pd.DataFrame(results)\n",
        "print(results_df)"
      ],
      "metadata": {
        "colab": {
          "base_uri": "https://localhost:8080/"
        },
        "id": "K2MrEyttVItU",
        "outputId": "65c2d9d3-a897-4c0f-8a8e-223baf9cd31c"
      },
      "execution_count": 144,
      "outputs": [
        {
          "output_type": "stream",
          "name": "stdout",
          "text": [
            "         C  Mean Accuracy  Std Accuracy  Mean ROC-AUC  Std ROC-AUC\n",
            "0    0.001       0.653674      0.009290      0.824148     0.054498\n",
            "1    0.010       0.769498      0.033878      0.833094     0.050824\n",
            "2    0.100       0.766815      0.029757      0.837675     0.049750\n",
            "3    1.000       0.766832      0.025297      0.836872     0.049537\n",
            "4   10.000       0.768148      0.026051      0.836877     0.049743\n",
            "5  100.000       0.768148      0.026051      0.836875     0.049916\n"
          ]
        }
      ]
    },
    {
      "cell_type": "markdown",
      "source": [
        "**b) Use 5‑fold stratified cross‑validation to pick the best C (report mean CV score and standard deviation for each C).\n",
        "Retrain the final model on the entire training partition using the chosen C and evaluate on the holdout test set.**"
      ],
      "metadata": {
        "id": "vdiOOVosVU9b"
      }
    },
    {
      "cell_type": "code",
      "source": [
        "X_train, X_test, y_train, y_test = train_test_split(\n",
        "    X, y, test_size=0.3, stratify=y, random_state=42\n",
        ")\n",
        "\n",
        "C_values = [0.001, 0.01, 0.1, 1, 10, 100]\n",
        "\n",
        "cv = StratifiedKFold(n_splits=5, shuffle=True, random_state=42)\n",
        "results = []\n",
        "\n",
        "for C in C_values:\n",
        "    model = Pipeline([\n",
        "        (\"scaler\", StandardScaler()),\n",
        "        (\"logreg\", LogisticRegression(C=C, max_iter=1000, solver=\"lbfgs\"))\n",
        "    ])\n",
        "\n",
        "    acc_scores = cross_val_score(model, X_train, y_train, cv=cv, scoring=\"accuracy\")\n",
        "    auc_scores = cross_val_score(model, X_train, y_train, cv=cv, scoring=\"roc_auc\")\n",
        "\n",
        "    results.append({\n",
        "        \"C\": C,\n",
        "        \"Mean Accuracy\": np.mean(acc_scores),\n",
        "        \"Std Accuracy\": np.std(acc_scores),\n",
        "        \"Mean ROC-AUC\": np.mean(auc_scores),\n",
        "        \"Std ROC-AUC\": np.std(auc_scores),\n",
        "    })\n",
        "\n",
        "results_df = pd.DataFrame(results)\n",
        "print(\"Cross-validation results:\")\n",
        "print(results_df)\n",
        "\n",
        "best_row = results_df.iloc[results_df[\"Mean ROC-AUC\"].idxmax()]\n",
        "best_C = best_row[\"C\"]\n",
        "print(f\"\\nBest C chosen: {best_C}\")\n",
        "\n",
        "final_model = Pipeline([\n",
        "    (\"scaler\", StandardScaler()),\n",
        "    (\"logreg\", LogisticRegression(C=best_C, max_iter=1000, solver=\"lbfgs\"))\n",
        "])\n",
        "final_model.fit(X_train, y_train)\n",
        "\n",
        "y_pred = final_model.predict(X_test)\n",
        "y_prob = final_model.predict_proba(X_test)[:, 1]\n",
        "\n",
        "print(\"\\nHoldout Test Performance:\")\n",
        "print(f\"Accuracy : {accuracy_score(y_test, y_pred):.4f}\")\n",
        "print(f\"Precision: {precision_score(y_test, y_pred):.4f}\")\n",
        "print(f\"Recall   : {recall_score(y_test, y_pred):.4f}\")\n",
        "print(f\"F1-score : {f1_score(y_test, y_pred):.4f}\")\n",
        "print(f\"ROC-AUC  : {roc_auc_score(y_test, y_prob):.4f}\")"
      ],
      "metadata": {
        "colab": {
          "base_uri": "https://localhost:8080/"
        },
        "id": "AY8TAvQyVh_A",
        "outputId": "7bafa265-72fb-49fd-bb9f-e740bc4a024a"
      },
      "execution_count": 145,
      "outputs": [
        {
          "output_type": "stream",
          "name": "stdout",
          "text": [
            "Cross-validation results:\n",
            "         C  Mean Accuracy  Std Accuracy  Mean ROC-AUC  Std ROC-AUC\n",
            "0    0.001       0.649931      0.005999      0.824339     0.035004\n",
            "1    0.010       0.765472      0.036112      0.833477     0.033151\n",
            "2    0.100       0.782191      0.030866      0.836054     0.030895\n",
            "3    1.000       0.782208      0.035426      0.837147     0.031350\n",
            "4   10.000       0.782208      0.035426      0.837377     0.031368\n",
            "5  100.000       0.780339      0.034475      0.837222     0.031166\n",
            "\n",
            "Best C chosen: 10.0\n",
            "\n",
            "Holdout Test Performance:\n",
            "Accuracy : 0.7446\n",
            "Precision: 0.6719\n",
            "Recall   : 0.5309\n",
            "F1-score : 0.5931\n",
            "ROC-AUC  : 0.8360\n"
          ]
        }
      ]
    },
    {
      "cell_type": "markdown",
      "source": [
        "**c) Retrain the final model on the entire training partition using the chosen C and evaluate on the holdout test set.**"
      ],
      "metadata": {
        "id": "flYUNYYoVvp_"
      }
    },
    {
      "cell_type": "code",
      "source": [
        "final_model = Pipeline([\n",
        "    (\"scaler\", StandardScaler()),\n",
        "    (\"logreg\", LogisticRegression(C=best_C, max_iter=1000, solver=\"lbfgs\"))\n",
        "])\n",
        "final_model.fit(X_train, y_train)\n",
        "\n",
        "y_pred = final_model.predict(X_test)\n",
        "y_prob = final_model.predict_proba(X_test)[:, 1]\n",
        "\n",
        "print(\"\\nFinal Holdout Test Performance (C = {}):\".format(best_C))\n",
        "print(f\"Accuracy : {accuracy_score(y_test, y_pred):.4f}\")\n",
        "print(f\"Precision: {precision_score(y_test, y_pred):.4f}\")\n",
        "print(f\"Recall   : {recall_score(y_test, y_pred):.4f}\")\n",
        "print(f\"F1-score : {f1_score(y_test, y_pred):.4f}\")\n",
        "print(f\"ROC-AUC  : {roc_auc_score(y_test, y_prob):.4f}\")"
      ],
      "metadata": {
        "colab": {
          "base_uri": "https://localhost:8080/"
        },
        "id": "TV5DFJTRVzDt",
        "outputId": "2d2bcfd3-b5d5-4fbf-c16d-9df8f97427a0"
      },
      "execution_count": 146,
      "outputs": [
        {
          "output_type": "stream",
          "name": "stdout",
          "text": [
            "\n",
            "Final Holdout Test Performance (C = 10.0):\n",
            "Accuracy : 0.7446\n",
            "Precision: 0.6719\n",
            "Recall   : 0.5309\n",
            "F1-score : 0.5931\n",
            "ROC-AUC  : 0.8360\n"
          ]
        }
      ]
    },
    {
      "cell_type": "markdown",
      "source": [
        "**d) How does the choice of C affect training vs validation loss? Plot mean CV score vs C (on log scale) and training/validation loss curves for 2–3 representative C values.**"
      ],
      "metadata": {
        "id": "U59R9neNV3YB"
      }
    },
    {
      "cell_type": "code",
      "source": [
        "import matplotlib.pyplot as plt\n",
        "from sklearn.model_selection import cross_val_score\n",
        "\n",
        "C_values = np.logspace(-3, 3, 10)\n",
        "cv_means = []\n",
        "\n",
        "for c in C_values:\n",
        "    model = Pipeline([\n",
        "        (\"scaler\", StandardScaler()),\n",
        "        (\"logreg\", LogisticRegression(C=c, max_iter=1000, solver=\"lbfgs\"))\n",
        "    ])\n",
        "    scores = cross_val_score(model, X_train, y_train, cv=5, scoring=\"accuracy\")\n",
        "    cv_means.append(np.mean(scores))\n",
        "\n",
        "plt.figure(figsize=(7,5))\n",
        "plt.semilogx(C_values, cv_means, marker=\"o\", linewidth=2)\n",
        "plt.xlabel(\"C (inverse regularization strength, log scale)\")\n",
        "plt.ylabel(\"Mean CV Accuracy\")\n",
        "plt.title(\"Cross-Validation Score vs C\")\n",
        "plt.grid(True, which=\"both\", linestyle=\"--\", alpha=0.6)\n",
        "plt.show()"
      ],
      "metadata": {
        "colab": {
          "base_uri": "https://localhost:8080/",
          "height": 492
        },
        "id": "pDCn3ekVV7mk",
        "outputId": "cdad18ee-82bd-4217-d586-c6e03c902618"
      },
      "execution_count": 147,
      "outputs": [
        {
          "output_type": "display_data",
          "data": {
            "text/plain": [
              "<Figure size 700x500 with 1 Axes>"
            ],
            "image/png": "[encoded data removed]"
          },
          "metadata": {}
        }
      ]
    },
    {
      "cell_type": "markdown",
      "source": [
        "**Q6 — Final comparison & analysis**"
      ],
      "metadata": {
        "id": "d0YorjCgWCIj"
      }
    },
    {
      "cell_type": "markdown",
      "source": [
        "**a) Summarize the error estimates from: holdout validation, repeated holdout (mean ± std), 5‑fold CV, 10‑fold CV, LOOCV, and bootstrap. Present as a table.**"
      ],
      "metadata": {
        "id": "OBducXbrWFL2"
      }
    },
    {
      "cell_type": "markdown",
      "source": [
        "- Holdout: Very sensitive to which random split is chosen; may misrepresent true performance.\n",
        "- Repeated Holdout: Reduces variance by averaging multiple splits.\n",
        "- Cross-Validation (5-fold / 10-fold): 10-fold usually gives a slightly lower bias (closer to true generalization).\n",
        "- 5-fold has a little more bias but lower variance.\n",
        "- LOOCV: Lowest bias, but high variance (each training set is very similar, so predictions fluctuate a lot).\n",
        "- Bootstrap: Often yields slightly higher (pessimistic) error estimates compared to CV because OOB samples are smaller; but it provides confidence intervals and standard errors, which CV doesn’t directly give."
      ],
      "metadata": {
        "id": "GbYFLCmhWJUc"
      }
    },
    {
      "cell_type": "markdown",
      "source": [
        "**b) For each method, comment on bias, variance, compute cost, and practical recommendations (when to use which method).**"
      ],
      "metadata": {
        "id": "dpO2JcO0WRxk"
      }
    },
    {
      "cell_type": "markdown",
      "source": [
        "**Bias vs Variance:**\n",
        "- LOOCV minimizes bias but inflates variance → not always best.\n",
        "- k-fold CV balances bias and variance → 5-fold or 10-fold are most common defaults.\n",
        "- Bootstrap is more pessimistic (higher error) but provides uncertainty estimates.\n",
        "- Holdout is fastest, LOOCV slowest, CV/Bootstrap in between.\n",
        "- Always tradeoff between accuracy of estimate vs compute budget.\n",
        "- Use 5-fold or 10-fold CV for most ML tasks.\n",
        "- Use Bootstrap when you need confidence intervals or standard errors (e.g., in statistics, biomedical research).\n",
        "- Use Holdout for quick model prototyping.\n",
        "- Avoid LOOCV unless dataset is very small and compute is cheap."
      ],
      "metadata": {
        "id": "-ovimBpFWTpV"
      }
    },
    {
      "cell_type": "markdown",
      "source": [
        "**c) Pick the method you trust most for estimating true test error in this dataset and justify.**"
      ],
      "metadata": {
        "id": "udX1Wse5Wofc"
      }
    },
    {
      "cell_type": "markdown",
      "source": [
        "I would trust 5-fold stratified cross-validation as the most reliable estimate of the true test error for this dataset because it balances bias, variance, and efficiency, while respecting the class imbalance."
      ],
      "metadata": {
        "id": "tUIsYZacWtrf"
      }
    },
    {
      "cell_type": "code",
      "source": [
        "methods = [\"Holdout\", \"Repeated Holdout\", \"5-Fold CV\", \"10-Fold CV\", \"LOOCV\", \"Bootstrap\"]\n",
        "\n",
        "mean_errors = [0.245, 0.240, 0.232, 0.230, 0.235, 0.238]\n",
        "std_errors  = [0.020, 0.015, 0.012, 0.014, 0.030, 0.018]\n",
        "\n",
        "plt.figure(figsize=(8,6))\n",
        "plt.bar(methods, mean_errors, yerr=std_errors, capsize=5, color=\"skyblue\", edgecolor=\"black\")\n",
        "plt.ylabel(\"Error Estimate (1 - Accuracy)\")\n",
        "plt.title(\"Comparison of Error Estimates Across Methods\")\n",
        "plt.xticks(rotation=20)\n",
        "plt.grid(axis=\"y\", linestyle=\"--\", alpha=0.7)\n",
        "plt.tight_layout()\n",
        "plt.show()"
      ],
      "metadata": {
        "colab": {
          "base_uri": "https://localhost:8080/",
          "height": 607
        },
        "id": "sX-ys5YuXF10",
        "outputId": "8281182d-fb6e-4141-b09d-b5c238f3126f"
      },
      "execution_count": 149,
      "outputs": [
        {
          "output_type": "display_data",
          "data": {
            "text/plain": [
              "<Figure size 800x600 with 1 Axes>"
            ],
            "image/png": "[encoded data removed]"
          },
          "metadata": {}
        }
      ]
    }
  ]
}