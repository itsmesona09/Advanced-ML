{
  "nbformat": 4,
  "nbformat_minor": 0,
  "metadata": {
    "colab": {
      "provenance": []
    },
    "kernelspec": {
      "name": "python3",
      "display_name": "Python 3"
    },
    "language_info": {
      "name": "python"
    }
  },
  "cells": [
    {
      "cell_type": "markdown",
      "source": [
        "# Inferential Statistics and Linear Regression (Applied)"
      ],
      "metadata": {
        "id": "2S26C808380m"
      }
    },
    {
      "cell_type": "markdown",
      "source": [
        "*summary understand what that numbers and metrics indicate, what is the meaning of that*"
      ],
      "metadata": {
        "id": "2BzM7sx08c0V"
      }
    },
    {
      "cell_type": "markdown",
      "source": [
        "**This question should be answered using the Carseats data set**"
      ],
      "metadata": {
        "id": "NL4M7Yaj4Ad-"
      }
    },
    {
      "cell_type": "markdown",
      "source": [
        "**a) Fit a multiple regression model to predict Sales using Price, Urban, and US.**"
      ],
      "metadata": {
        "id": "K1UWcMSR6rYN"
      }
    },
    {
      "cell_type": "code",
      "source": [
        "import numpy as np\n",
        "import pandas as pd\n",
        "import matplotlib.pyplot as plt"
      ],
      "metadata": {
        "id": "iMy5byF1628N"
      },
      "execution_count": 60,
      "outputs": []
    },
    {
      "cell_type": "code",
      "source": [
        "df = pd.read_csv(\"/content/Carseats.csv\")"
      ],
      "metadata": {
        "id": "H1tLWMfp7U9d"
      },
      "execution_count": 61,
      "outputs": []
    },
    {
      "cell_type": "code",
      "source": [
        "df['Urban'] = df['Urban'].map({'Yes' : 1, 'No' : 0})\n",
        "df['US'] = df['US'].map({'Yes' : 1, 'No' : 0})\n",
        "\n",
        "X = df[['Price', 'Urban', 'US']]\n",
        "y = df['Sales']"
      ],
      "metadata": {
        "id": "6eKfNIx-8FQN"
      },
      "execution_count": 62,
      "outputs": []
    },
    {
      "cell_type": "code",
      "source": [
        "from sklearn.linear_model import LinearRegression\n",
        "from sklearn.model_selection import train_test_split"
      ],
      "metadata": {
        "id": "MtGkHd3L-g5e"
      },
      "execution_count": 63,
      "outputs": []
    },
    {
      "cell_type": "code",
      "source": [
        "X_train, X_test, y_train, y_test = train_test_split(X, y, test_size=0.2, random_state=42)"
      ],
      "metadata": {
        "id": "mEDSzDyD-qz1"
      },
      "execution_count": 64,
      "outputs": []
    },
    {
      "cell_type": "markdown",
      "source": [
        "*Using Linear Regression -> doesnot have summary*"
      ],
      "metadata": {
        "id": "oVyYpKpOBsIR"
      }
    },
    {
      "cell_type": "code",
      "source": [
        "import statsmodels.api as sm"
      ],
      "metadata": {
        "id": "CF7UBnAc-Ri0"
      },
      "execution_count": 65,
      "outputs": []
    },
    {
      "cell_type": "code",
      "source": [
        "X_intercept = sm.add_constant(X)"
      ],
      "metadata": {
        "id": "COm3hQ0BB1eQ"
      },
      "execution_count": 66,
      "outputs": []
    },
    {
      "cell_type": "code",
      "source": [
        "model = sm.OLS(y, X_intercept).fit()\n",
        "print(model.summary())"
      ],
      "metadata": {
        "colab": {
          "base_uri": "https://localhost:8080/"
        },
        "id": "03PI1iBHBf21",
        "outputId": "e8e87c82-6215-4057-ae99-f8450d0f8d7a"
      },
      "execution_count": 67,
      "outputs": [
        {
          "output_type": "stream",
          "name": "stdout",
          "text": [
            "                            OLS Regression Results                            \n",
            "==============================================================================\n",
            "Dep. Variable:                  Sales   R-squared:                       0.239\n",
            "Model:                            OLS   Adj. R-squared:                  0.234\n",
            "Method:                 Least Squares   F-statistic:                     41.52\n",
            "Date:                Mon, 18 Aug 2025   Prob (F-statistic):           2.39e-23\n",
            "Time:                        18:36:59   Log-Likelihood:                -927.66\n",
            "No. Observations:                 400   AIC:                             1863.\n",
            "Df Residuals:                     396   BIC:                             1879.\n",
            "Df Model:                           3                                         \n",
            "Covariance Type:            nonrobust                                         \n",
            "==============================================================================\n",
            "                 coef    std err          t      P>|t|      [0.025      0.975]\n",
            "------------------------------------------------------------------------------\n",
            "const         13.0435      0.651     20.036      0.000      11.764      14.323\n",
            "Price         -0.0545      0.005    -10.389      0.000      -0.065      -0.044\n",
            "Urban         -0.0219      0.272     -0.081      0.936      -0.556       0.512\n",
            "US             1.2006      0.259      4.635      0.000       0.691       1.710\n",
            "==============================================================================\n",
            "Omnibus:                        0.676   Durbin-Watson:                   1.912\n",
            "Prob(Omnibus):                  0.713   Jarque-Bera (JB):                0.758\n",
            "Skew:                           0.093   Prob(JB):                        0.684\n",
            "Kurtosis:                       2.897   Cond. No.                         628.\n",
            "==============================================================================\n",
            "\n",
            "Notes:\n",
            "[1] Standard Errors assume that the covariance matrix of the errors is correctly specified.\n"
          ]
        }
      ]
    },
    {
      "cell_type": "markdown",
      "source": [
        "**b) Provide an interpretation of each coefficient in the model. Be careful—some of the variables in the model are qualitative!**"
      ],
      "metadata": {
        "id": "HlBjGDqVCR6x"
      }
    },
    {
      "cell_type": "markdown",
      "source": [
        "**1. INTERCEPT (13.0435)**\n",
        "\n",
        "\n",
        "*   It gives the predicted sales, when Price = 0, Urban = 0, US = 0\n",
        "*   Since, Price = 0 is unrealistic, as it never occurs, it is not useful for business insights\n",
        "\n"
      ],
      "metadata": {
        "id": "ul_b7hXjDhvI"
      }
    },
    {
      "cell_type": "markdown",
      "source": [
        "2. PRICE (-0.0545)\n",
        "\n",
        "\n",
        "*   It is a Quantitative predictor\n",
        "*   Having Urban and US fixed, an increase in 1 unit in Price is associated with a decrease of 0.055 units of Sales\n",
        "*   Higher prices lead to lower sales\n",
        "\n",
        "\n",
        "\n",
        "\n",
        "\n",
        "\n",
        "\n"
      ],
      "metadata": {
        "id": "vtdKmclkEUY_"
      }
    },
    {
      "cell_type": "markdown",
      "source": [
        "3. URBAN (–0.022)\n",
        "\n",
        "\n",
        "*   It is a Qualitative predictor, coded 1 = Urban, 0 = Non-Urban\n",
        "*   Urban stores sell about 0.02 fewer units on average than Non-Urban stores, holding Price and US constant"
      ],
      "metadata": {
        "id": "RK7W53p1Sseg"
      }
    },
    {
      "cell_type": "markdown",
      "source": [
        "4. US (1.20)\n",
        "\n",
        "*   It is a Qualitative predictor, coded 1 = US, 0 = non-US\n",
        "*   Stores in the US sell on average 1.2 more units than stores outside the US, holding Price and Urban constant"
      ],
      "metadata": {
        "id": "JyBczO0uTK31"
      }
    },
    {
      "cell_type": "markdown",
      "source": [
        "**c) Write out the model in equation form, being careful to handle the qualitative variables properly.**"
      ],
      "metadata": {
        "id": "Qc70X4-vTi2N"
      }
    },
    {
      "cell_type": "markdown",
      "source": [
        "- Equation for OLS Regression Model\n",
        "y = β0 ​+ β1​X1 ​+ β2​X2 ​+ β3​X3 ​+ ϵ\n",
        "- Here y = Sales\n",
        "  - β0 = 13.0435\n",
        "  - X1 = Price; β1 = -0.0545\n",
        "  - X2 = Urban; β2 = -0.0219\n",
        "  - X3 = US; β3 = 1.2006\n",
        "\n",
        "  Sales = 13.0435 + (-0.0545 * Price) + (-0.0219 * Urban) + (1.2006 * US)\n",
        "\n",
        "  **Sales = 13.0435 - (0.0545 * Price) - (0.0219 * Urban) + (1.2006 * US)**"
      ],
      "metadata": {
        "id": "K4PizwLHUBMl"
      }
    },
    {
      "cell_type": "markdown",
      "source": [
        "**d) For which of the predictors can you reject the null hypothesis $H_0 : \\beta_j = 0$?**"
      ],
      "metadata": {
        "id": "UZu3_ARwW_9N"
      }
    },
    {
      "cell_type": "markdown",
      "source": [
        "- For each coefficient βj, the null and alternative hypothesis are:\n",
        "H0 : βj = 0\n",
        "H1 : βj != 0\n",
        "\n",
        "We can use the p-value to decide\n",
        "\n",
        "*   if p < 0.05, reject H0\n",
        "*   if p > 0.05, accept H0\n",
        "\n",
        "For Price, p-value of Price < 0.05, we reject H0\n",
        "\n",
        "For Urban, p-value of Urban > 0.05, we accept H0\n",
        "\n",
        "For US, p-value of US < 0.05, we reject H0\n",
        "\n",
        "Therefore, we can reject the null hypothesis for Price and US and we cannot reject the null hypothesis for Urban\n"
      ],
      "metadata": {
        "id": "-Xu-mN0pXDlP"
      }
    },
    {
      "cell_type": "markdown",
      "source": [
        "**e) On the basis of your response to the previous question, fit a smaller model that only uses the predictors for which there is evidence of association with the outcome.**"
      ],
      "metadata": {
        "id": "J0pCYpm1ZLxZ"
      }
    },
    {
      "cell_type": "code",
      "source": [
        "X = df[['Price', 'US']]\n",
        "Y = df['Sales']"
      ],
      "metadata": {
        "id": "ywD1XxHFaBmd"
      },
      "execution_count": 68,
      "outputs": []
    },
    {
      "cell_type": "code",
      "source": [
        "Xintercept = sm.add_constant(X)\n",
        "model = sm.OLS(Y, Xintercept).fit()\n",
        "print(model.summary())"
      ],
      "metadata": {
        "colab": {
          "base_uri": "https://localhost:8080/"
        },
        "id": "QQCSR_XnaCOj",
        "outputId": "61b8981f-6169-4a2a-fb96-3df94a54f4b8"
      },
      "execution_count": 69,
      "outputs": [
        {
          "output_type": "stream",
          "name": "stdout",
          "text": [
            "                            OLS Regression Results                            \n",
            "==============================================================================\n",
            "Dep. Variable:                  Sales   R-squared:                       0.239\n",
            "Model:                            OLS   Adj. R-squared:                  0.235\n",
            "Method:                 Least Squares   F-statistic:                     62.43\n",
            "Date:                Mon, 18 Aug 2025   Prob (F-statistic):           2.66e-24\n",
            "Time:                        18:36:59   Log-Likelihood:                -927.66\n",
            "No. Observations:                 400   AIC:                             1861.\n",
            "Df Residuals:                     397   BIC:                             1873.\n",
            "Df Model:                           2                                         \n",
            "Covariance Type:            nonrobust                                         \n",
            "==============================================================================\n",
            "                 coef    std err          t      P>|t|      [0.025      0.975]\n",
            "------------------------------------------------------------------------------\n",
            "const         13.0308      0.631     20.652      0.000      11.790      14.271\n",
            "Price         -0.0545      0.005    -10.416      0.000      -0.065      -0.044\n",
            "US             1.1996      0.258      4.641      0.000       0.692       1.708\n",
            "==============================================================================\n",
            "Omnibus:                        0.666   Durbin-Watson:                   1.912\n",
            "Prob(Omnibus):                  0.717   Jarque-Bera (JB):                0.749\n",
            "Skew:                           0.092   Prob(JB):                        0.688\n",
            "Kurtosis:                       2.895   Cond. No.                         607.\n",
            "==============================================================================\n",
            "\n",
            "Notes:\n",
            "[1] Standard Errors assume that the covariance matrix of the errors is correctly specified.\n"
          ]
        }
      ]
    },
    {
      "cell_type": "markdown",
      "source": [
        "Equation for OLS Regression Model y\n",
        "\n",
        "Sales = 13.0303 - (0.0545 * Price) + (1.1996 * US)"
      ],
      "metadata": {
        "id": "M9merCfJaQRy"
      }
    },
    {
      "cell_type": "markdown",
      "source": [
        "**f) How well do the models in (a) and (e) fit the data?**"
      ],
      "metadata": {
        "id": "wxuZ5MIbawdJ"
      }
    },
    {
      "cell_type": "markdown",
      "source": [
        "**MODEL a)**\n",
        "\n",
        "R-squared: 0.239\n",
        "\n",
        "Adj. R-squared: 0.234\n",
        "\n",
        "F-statistic: 41.52\n",
        "\n",
        "**MODEL b)**\n",
        "\n",
        "R-squared: 0.239\n",
        "\n",
        "Adj. R-squared: 0.235\n",
        "\n",
        "F-statistic: 62.43"
      ],
      "metadata": {
        "id": "lrLy-zI7a6J9"
      }
    },
    {
      "cell_type": "markdown",
      "source": [
        "- Both models explain about 24% of the variation in Sales.\n",
        "- The adjusted R-squared is almost the same in both models. This tells us that dropping Urban did not reduce explanatory power, since Urban was not significant.\n",
        "- In fact, the reduced model is slightly better because it’s simpler (fewer predictors) but fits just as well."
      ],
      "metadata": {
        "id": "WFD7Ui5ebqlM"
      }
    },
    {
      "cell_type": "markdown",
      "source": [
        "- The key drivers of Sales are Price (negative impact) and US (positive impact).\n",
        "- The Urban variable adds no predictive value.\n",
        "Thus, the smaller model is preferred, it’s more interpretable and equally predictive."
      ],
      "metadata": {
        "id": "R5-ZkMgEcPzv"
      }
    },
    {
      "cell_type": "markdown",
      "source": [
        "**g) Using the model from (e), obtain 95 % confidence intervals for the coefficient(s).**"
      ],
      "metadata": {
        "id": "FwfgN-IDcWOZ"
      }
    },
    {
      "cell_type": "code",
      "source": [
        "confidence_intervals = model.conf_int(alpha=0.05)\n",
        "confidence_intervals.columns = ['2.5 %', '97.5 %']\n",
        "print(confidence_intervals)"
      ],
      "metadata": {
        "colab": {
          "base_uri": "https://localhost:8080/"
        },
        "id": "vG4B1pPQcwhO",
        "outputId": "863a3a6c-7250-4fb4-e9e7-989e471d08da"
      },
      "execution_count": 70,
      "outputs": [
        {
          "output_type": "stream",
          "name": "stdout",
          "text": [
            "          2.5 %     97.5 %\n",
            "const  11.79032  14.271265\n",
            "Price  -0.06476  -0.044195\n",
            "US      0.69152   1.707766\n"
          ]
        }
      ]
    },
    {
      "cell_type": "markdown",
      "source": [
        "**h) Is there evidence of outliers or high leverage observations in the model from (e)?**"
      ],
      "metadata": {
        "id": "NoskD8iTdGUy"
      }
    },
    {
      "cell_type": "markdown",
      "source": [
        "- Compute standardized residuals from the regression\n",
        "- Rule of thumb: values beyond ±2 indicate possible outliers"
      ],
      "metadata": {
        "id": "Vgv3DDyidJAH"
      }
    },
    {
      "cell_type": "code",
      "source": [
        "outliers = model.get_influence()\n",
        "standardized_residuals = outliers.resid_studentized_internal"
      ],
      "metadata": {
        "id": "c27aEYWBdbXr"
      },
      "execution_count": 71,
      "outputs": []
    },
    {
      "cell_type": "code",
      "source": [
        "leverage = outliers.hat_matrix_diag\n",
        "cooks_d = outliers.cooks_distance[0]"
      ],
      "metadata": {
        "id": "C10JBzppdkzl"
      },
      "execution_count": 72,
      "outputs": []
    },
    {
      "cell_type": "code",
      "source": [
        "import matplotlib.pyplot as plt\n",
        "sm.graphics.plot_leverage_resid2(model)\n",
        "plt.show()"
      ],
      "metadata": {
        "colab": {
          "base_uri": "https://localhost:8080/",
          "height": 472
        },
        "id": "xe4rGgVUdtQ_",
        "outputId": "4d06f3da-0a75-4dc1-84e1-c094d42f348e"
      },
      "execution_count": 73,
      "outputs": [
        {
          "output_type": "display_data",
          "data": {
            "text/plain": [
              "<Figure size 640x480 with 1 Axes>"
            ],
            "image/png": "[encoded data removed]"
          },
          "metadata": {}
        }
      ]
    }
  ]
}